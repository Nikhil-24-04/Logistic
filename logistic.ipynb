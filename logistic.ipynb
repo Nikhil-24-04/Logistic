{
  "nbformat": 4,
  "nbformat_minor": 0,
  "metadata": {
    "colab": {
      "provenance": [],
      "authorship_tag": "ABX9TyPpA2PZt9M3+FZAiovADDPL",
      "include_colab_link": true
    },
    "kernelspec": {
      "name": "python3",
      "display_name": "Python 3"
    },
    "language_info": {
      "name": "python"
    }
  },
  "cells": [
    {
      "cell_type": "markdown",
      "metadata": {
        "id": "view-in-github",
        "colab_type": "text"
      },
      "source": [
        "<a href=\"https://colab.research.google.com/github/Nikhil-24-04/Logistic/blob/main/logistic.ipynb\" target=\"_parent\"><img src=\"https://colab.research.google.com/assets/colab-badge.svg\" alt=\"Open In Colab\"/></a>"
      ]
    },
    {
      "cell_type": "code",
      "execution_count": null,
      "metadata": {
        "id": "V0LDrOF5UwPT"
      },
      "outputs": [],
      "source": [
        "import pandas as pd\n",
        "import streamlit as st\n",
        "from sklearn.linear_model import LogisticRegression\n",
        "\n",
        "st.title('Model Deployment: Logistic Regression')\n",
        "\n",
        "st.sidebar.header('User Input Parameters')\n",
        "\n",
        "def user_input_features():\n",
        "    CLMSEX = st.sidebar.selectbox('Gender',('1','0'))\n",
        "    CLMINSUR = st.sidebar.selectbox('Insurance',('1','0'))\n",
        "    SEATBELT = st.sidebar.selectbox('SeatBelt',('1','0'))\n",
        "    CLMAGE = st.sidebar.number_input(\"Insert the Age\")\n",
        "    LOSS = st.sidebar.number_input(\"Insert Loss\")\n",
        "    data = {'CLMSEX':CLMSEX,\n",
        "            'CLMINSUR':CLMINSUR,\n",
        "            'SEATBELT':SEATBELT,\n",
        "            'CLMAGE':CLMAGE,\n",
        "            'LOSS':LOSS}\n",
        "    features = pd.DataFrame(data,index = [0])\n",
        "    return features\n",
        "\n",
        "df = user_input_features()\n",
        "st.subheader('User Input parameters')\n",
        "st.write(df)\n",
        "\n",
        "claimants = pd.read_csv(r\"C:\\Users\\pabba\\OneDrive\\Desktop\\Excler\\claimants.csv\")\n",
        "claimants.drop([\"CASENUM\"],inplace=True,axis = 1)\n",
        "claimants = claimants.dropna()\n",
        "\n",
        "X = claimants.iloc[:,[1,2,3,4,5]]\n",
        "Y = claimants.iloc[:,0]\n",
        "clf = LogisticRegression()\n",
        "clf.fit(X,Y)\n",
        "\n",
        "\n",
        "prediction = clf.predict(df)\n",
        "prediction_proba = clf.predict_proba(df)\n",
        "\n",
        "st.subheader('Predicted Result')\n",
        "st.write('The claimant not represent by attorney' if prediction_proba[0][1] > 0.5 else 'The claimant represented by attorney')\n",
        "\n",
        "st.subheader('Prediction Probability')\n",
        "st.write(prediction_proba)"
      ]
    }
  ]
}